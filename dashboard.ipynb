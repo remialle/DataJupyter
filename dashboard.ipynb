import pandas as pd
# print(pd.__version__) to check pandas is working
df = pd.read_csv('sales.csv')
# print(df.columns) to check data loaded

#add column date from year, month, day
df = pd.read_csv('sales.csv', parse_dates= {"date" : ["Year","Month","Day"]},keep_date_col=True)
# print(df.columns) to check

# add week column
df['week'] = df['date'].dt.isocalendar().week

#create pivot by week
pivotWeeks = pd.pivot_table(df, index='week', values='Sales_Value_EUR', aggfunc='sum', columns='Year')

#new data frame from pivot
weekly = pivotWeeks

#add column evolution
weekly['evo'] = ((weekly['2021'] / weekly['2020']) - 1)

# style columns
weekly.style.format({'2020': '{:,.0f}', '2021': '{:,.0f}', 'evo': '{:.2%}'})
